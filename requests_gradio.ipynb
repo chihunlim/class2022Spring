{
  "nbformat": 4,
  "nbformat_minor": 0,
  "metadata": {
    "colab": {
      "name": "requests_gradio.ipynb",
      "provenance": [],
      "authorship_tag": "ABX9TyPjHASVn9PprlQGok1NleSo",
      "include_colab_link": true
    },
    "kernelspec": {
      "name": "python3",
      "display_name": "Python 3"
    },
    "language_info": {
      "name": "python"
    }
  },
  "cells": [
    {
      "cell_type": "markdown",
      "metadata": {
        "id": "view-in-github",
        "colab_type": "text"
      },
      "source": [
        "<a href=\"https://colab.research.google.com/github/hsnam95/class2022Spring/blob/main/requests_gradio.ipynb\" target=\"_parent\"><img src=\"https://colab.research.google.com/assets/colab-badge.svg\" alt=\"Open In Colab\"/></a>"
      ]
    },
    {
      "cell_type": "code",
      "source": [
        "!pip install gradio\n",
        "import gradio as gr\n",
        "import requests\n",
        "import pandas as pd\n"
      ],
      "metadata": {
        "id": "8eZHGJhmqd9a"
      },
      "execution_count": null,
      "outputs": []
    },
    {
      "cell_type": "code",
      "source": [
        "def test(sidoName):\n",
        "  URL = ('http://apis.data.go.kr/B552584/ArpltnStatsSvc/'\n",
        "      'getCtprvnMesureSidoLIst?sidoName='+sidoName+\n",
        "      '&searchCondition=DAILY'\n",
        "      '&pageNo=1'\n",
        "      '&numOfRows=100'\n",
        "      '&returnType=json'\n",
        "      '&serviceKey=miH%2BZXg85lQy4%2FkmhffvygXDIFiTwisriSLxtyECSzw6hxTVK7yI8QKIOc7mP7LEqCnhBGuj6iW1gZW65dum7A%3D%3D')\n",
        "  \n",
        "  html = requests.get(URL)\n",
        "  x = html.json()\n",
        "  items = x['response']['body']['items']\n",
        "\n",
        "  cityName = [item['cityName'] for item in items]\n",
        "  pm10Value = [item['pm10Value'] for item in items]\n",
        "  pm25Value = [item['pm25Value'] for item in items]\n",
        "    \n",
        "  pd_cityName = pd.Series(cityName)\n",
        "  pd_pm10Value = pd.Series(pm10Value)   \n",
        "  pd_pm25Value = pd.Series(pm25Value)\n",
        "  df = pd.DataFrame({ 'cityName': cityName, 'pm10Value': pm10Value, 'pm25Value': pm25Value })\n",
        "  return df"
      ],
      "metadata": {
        "id": "xa2Gb_qsm_G5"
      },
      "execution_count": 33,
      "outputs": []
    },
    {
      "cell_type": "code",
      "source": [
        "iface = gr.Interface(fn=test, inputs=['text'],outputs=['dataframe'])\n",
        "iface.launch(debug=True)\n",
        "\n",
        "\n"
      ],
      "metadata": {
        "colab": {
          "base_uri": "https://localhost:8080/",
          "height": 592
        },
        "id": "kxORJVPOnDSP",
        "outputId": "915f60a3-058c-4c33-fd61-19e43077be7e"
      },
      "execution_count": null,
      "outputs": [
        {
          "output_type": "stream",
          "name": "stdout",
          "text": [
            "Colab notebook detected. This cell will run indefinitely so that you can see errors and logs. To turn off, set debug=False in launch().\n",
            "Running on public URL: https://28482.gradio.app\n",
            "\n",
            "This share link expires in 72 hours. For free permanent hosting, check out Spaces (https://huggingface.co/spaces)\n"
          ]
        },
        {
          "output_type": "display_data",
          "data": {
            "text/plain": [
              "<IPython.lib.display.IFrame at 0x7f06a0a03990>"
            ],
            "text/html": [
              "\n",
              "        <iframe\n",
              "            width=\"900\"\n",
              "            height=\"500\"\n",
              "            src=\"https://28482.gradio.app\"\n",
              "            frameborder=\"0\"\n",
              "            allowfullscreen\n",
              "        ></iframe>\n",
              "        "
            ]
          },
          "metadata": {}
        }
      ]
    }
  ]
}